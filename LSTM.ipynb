{
 "cells": [
  {
   "cell_type": "code",
   "execution_count": 1,
   "id": "483c8835-6fe7-4564-9572-1915a767da27",
   "metadata": {},
   "outputs": [],
   "source": [
    "import torch\n",
    "import torch.nn as nn\n",
    "import torch.optim as optim"
   ]
  },
  {
   "cell_type": "code",
   "execution_count": 2,
   "id": "0d7694a8-304a-4ba3-92ed-7e8a298265b7",
   "metadata": {},
   "outputs": [],
   "source": [
    "class SimpleLSTM(nn.Module):\n",
    "    def __init__(self, input_size, hidden_size, output_size):\n",
    "        super(SimpleLSTM, self).__init__()\n",
    "        self.lstm = nn.LSTM(input_size, hidden_size, batch_first=True)\n",
    "        self.fc = nn.Linear(hidden_size, output_size)\n",
    "\n",
    "    def forward(self, x):\n",
    "        # Forward pass through the LSTM layer\n",
    "        lstm_out, _ = self.lstm(x)\n",
    "        \n",
    "        # Only take the output from the last time step\n",
    "        lstm_out = lstm_out[:, -1, :]\n",
    "        \n",
    "        # Forward pass through the fully connected layer\n",
    "        out = self.fc(lstm_out)\n",
    "        return out"
   ]
  },
  {
   "cell_type": "code",
   "execution_count": 3,
   "id": "e7afe66c-22d8-407a-92e6-5004adf07173",
   "metadata": {},
   "outputs": [],
   "source": [
    "input_size = 10  # Number of features in the input\n",
    "hidden_size = 50  # Number of LSTM units (hidden size)\n",
    "output_size = 1  # Number of output units"
   ]
  },
  {
   "cell_type": "code",
   "execution_count": 4,
   "id": "c186b8ac-d6db-4aa8-bffb-355b59e89e25",
   "metadata": {},
   "outputs": [],
   "source": [
    "model = SimpleLSTM(input_size, hidden_size, output_size)"
   ]
  },
  {
   "cell_type": "code",
   "execution_count": 5,
   "id": "f860b93b-7c04-428d-a726-4d517e34ffcf",
   "metadata": {},
   "outputs": [],
   "source": [
    "sequence_length = 20\n",
    "batch_size = 3\n",
    "input_sequence = torch.rand(batch_size, sequence_length, input_size)"
   ]
  },
  {
   "cell_type": "code",
   "execution_count": 6,
   "id": "73ef5000-3e17-47cb-99a6-e81d99197dc5",
   "metadata": {},
   "outputs": [
    {
     "name": "stdout",
     "output_type": "stream",
     "text": [
      "Output shape: torch.Size([3, 1])\n"
     ]
    }
   ],
   "source": [
    "output = model(input_sequence)\n",
    "print(\"Output shape:\", output.shape)"
   ]
  },
  {
   "cell_type": "code",
   "execution_count": 7,
   "id": "d61c27a4-153a-4675-87d6-4d061b279296",
   "metadata": {},
   "outputs": [
    {
     "data": {
      "text/plain": [
       "tensor([[0.1113],\n",
       "        [0.1007],\n",
       "        [0.1251]], grad_fn=<AddmmBackward0>)"
      ]
     },
     "execution_count": 7,
     "metadata": {},
     "output_type": "execute_result"
    }
   ],
   "source": [
    "output"
   ]
  },
  {
   "cell_type": "code",
   "execution_count": null,
   "id": "2f2cbdb0-2026-4eae-9e3e-6d9bf4a5dea8",
   "metadata": {},
   "outputs": [],
   "source": []
  }
 ],
 "metadata": {
  "kernelspec": {
   "display_name": "Python 3 (ipykernel)",
   "language": "python",
   "name": "python3"
  },
  "language_info": {
   "codemirror_mode": {
    "name": "ipython",
    "version": 3
   },
   "file_extension": ".py",
   "mimetype": "text/x-python",
   "name": "python",
   "nbconvert_exporter": "python",
   "pygments_lexer": "ipython3",
   "version": "3.11.0"
  }
 },
 "nbformat": 4,
 "nbformat_minor": 5
}
